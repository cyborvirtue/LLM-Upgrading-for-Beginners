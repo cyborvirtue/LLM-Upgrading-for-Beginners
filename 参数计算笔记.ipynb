{
 "cells": [
  {
   "cell_type": "markdown",
   "metadata": {},
   "source": [
    "参考b站讲解视频：https://www.bilibili.com/video/BV1Zw4ue2ELg/?spm_id_from=333.788.comment.all.click&vd_source=01e76602bca90a928935ecc928b2c476\n",
    "\n"
   ]
  },
  {
   "cell_type": "markdown",
   "metadata": {},
   "source": [
    "\n",
    "# 大语言模型参数量计算公式（符号版）\n",
    "\n",
    "## 变量定义\n",
    "- $V$：词汇表大小\n",
    "- $h$：隐藏层维度\n",
    "- $a$：注意力头数量\n",
    "- $h_{ff}$：前馈网络中间层维度（通常 $h_{ff} = 4h$）\n",
    "- $L$：Transformer层数\n",
    "- $S$：最大序列长度\n",
    "\n",
    "## 各组件参数量计算（含偏置）\n",
    "\n",
    "### 1. 嵌入层\n",
    "- 词嵌入参数：$V \\times h$\n",
    "- 位置嵌入参数：$S \\times h$\n",
    "- 嵌入层总参数：$(V + S) \\times h$\n",
    "\n",
    "### 2. 注意力机制（每层）\n",
    "- Query/Key/Value矩阵：$3 \\times h \\times h$\n",
    "- 对应偏置项：$3 \\times h$\n",
    "- 输出投影矩阵：$h \\times h$\n",
    "- 输出偏置：$h$\n",
    "- 每层注意力总参数：$4 \\times h^2 + 4 \\times h$\n",
    "\n",
    "### 3. 前馈网络（每层）\n",
    "- 第一层权重参数：$h \\times h_{ff}$\n",
    "- 第一层偏置参数：$h_{ff}$\n",
    "- 第二层权重参数：$h_{ff} \\times h$\n",
    "- 第二层偏置参数：$h$\n",
    "- 每层前馈网络总参数：$2 \\times h \\times h_{ff} + h_{ff} + h$\n",
    "\n",
    "### 4. 层归一化（每层）\n",
    "- 每个Layer Norm参数：$2 \\times h$\n",
    "- 每层Layer Norm总参数：$4 \\times h$\n",
    "\n",
    "## 总参数量计算公式（含偏置）\n",
    "\n",
    "$P_{total} = (V + S) \\times h + L \\times (4h^2 + 4h + 2h \\times h_{ff} + h_{ff} + h + 4h) + V \\times h$\n",
    "\n",
    "代入 $h_{ff} = 4h$：\n",
    "\n",
    "$P_{total} = (2V + S) \\times h + L \\times (4h^2 + 4h + 8h^2 + 4h + h + 4h)$\n",
    "\n",
    "$P_{total} = (2V + S) \\times h + L \\times (12h^2 + 9h + 4h)$\n",
    "\n",
    "$P_{total} = (2V + S) \\times h + L \\times (12h^2 + 13h)$\n",
    "\n",
    "\n",
    "\n",
    "\n",
    "\n",
    "## 简化估算公式\n",
    "\n",
    "对于大型模型，参数主要集中在注意力层和前馈网络，可简化为：\n",
    "\n",
    "$P_{total} \\approx 12 \\times L \\times h^2$\n",
    "\n",
    "这个简化公式在实际应用中误差通常不超过5%，非常适合快速估算。"
   ]
  }
 ],
 "metadata": {
  "language_info": {
   "name": "python"
  }
 },
 "nbformat": 4,
 "nbformat_minor": 2
}
