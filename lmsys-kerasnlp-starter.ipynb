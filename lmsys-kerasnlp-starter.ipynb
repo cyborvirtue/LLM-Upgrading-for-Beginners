{
 "cells": [
  {
   "cell_type": "markdown",
   "metadata": {
    "papermill": {
     "duration": 0.014876,
     "end_time": "2024-06-03T17:01:07.523093",
     "exception": false,
     "start_time": "2024-06-03T17:01:07.508217",
     "status": "completed"
    },
    "tags": []
   },
   "source": [
    "<center><img src=\"https://keras.io/img/logo-small.png\" alt=\"Keras logo\" width=\"100\"><br/>\n",
    "This starter notebook is provided by the Keras team.</center>"
   ]
  },
  {
   "cell_type": "markdown",
   "metadata": {
    "papermill": {
     "duration": 0.014071,
     "end_time": "2024-06-03T17:01:07.551303",
     "exception": false,
     "start_time": "2024-06-03T17:01:07.537232",
     "status": "completed"
    },
    "tags": []
   },
   "source": [
    "# 使用 [KerasNLP](https://github.com/keras-team/keras-nlp) 和 [Keras](https://github.com/keras-team/keras) 开始 LLM 分类微调入门\n",
    "\n",
    "<div align=\"center\">\n",
    "    <img src=\"https://i.ibb.co/wJMF5HL/lmsys.png\">\n",
    "</div>\n",
    "\n",
    "在这个比赛中，我们的目标是预测用户在由大型语言模型（LLMs）驱动的聊天机器人之间的对抗中会更倾向于哪个 LLM 的回答。换句话说，比赛的目标是预测评委的偏好，并确定给定的提示/回答对被选为获胜者的可能性。本教程将指导您使用 KerasNLP 的**共享权重**策略来微调 **DebertaV3** 模型。这种策略类似于多项选择题（MCQ）模型的训练方式。此外，我们还将使用混合精度来加快训练和推理速度。\n",
    "\n",
    "**你知道吗**：本教程是后端无关的，这意味着它支持 TensorFlow、PyTorch 和 JAX 后端。不过，使用 `JAX` 可以获得最佳性能。KerasNLP 和 Keras 允许您选择喜欢的后端。在 [Keras](https://keras.io/keras_3/) 了解更多详情。\n",
    "\n",
    "**注意**：要深入了解 KerasNLP，请参考 [KerasNLP 指南](https://keras.io/keras_nlp/)。"
   ]
  },
  {
   "cell_type": "markdown",
   "metadata": {
    "papermill": {
     "duration": 0.014736,
     "end_time": "2024-06-03T17:01:07.580011",
     "exception": false,
     "start_time": "2024-06-03T17:01:07.565275",
     "status": "completed"
    },
    "tags": []
   },
   "source": [
    "# 📚 | Import Libraries "
   ]
  },
  {
   "cell_type": "code",
   "execution_count": null,
   "metadata": {
    "_kg_hide-output": true,
    "execution": {
     "iopub.execute_input": "2024-10-15T21:33:10.810092Z",
     "iopub.status.busy": "2024-10-15T21:33:10.809707Z",
     "iopub.status.idle": "2024-10-15T21:33:24.474101Z",
     "shell.execute_reply": "2024-10-15T21:33:24.473285Z",
     "shell.execute_reply.started": "2024-10-15T21:33:10.81005Z"
    },
    "papermill": {
     "duration": 14.715162,
     "end_time": "2024-06-03T17:01:22.309231",
     "exception": false,
     "start_time": "2024-06-03T17:01:07.594069",
     "status": "completed"
    },
    "tags": [],
    "trusted": true
   },
   "outputs": [],
   "source": [
    "import os\n",
    "os.environ[\"KERAS_BACKEND\"] = \"jax\"  # or \"tensorflow\" or \"torch\"\n",
    "\n",
    "import keras_nlp\n",
    "import keras\n",
    "import tensorflow as tf\n",
    "\n",
    "import numpy as np \n",
    "import pandas as pd\n",
    "from tqdm import tqdm\n",
    "import json\n",
    "\n",
    "import matplotlib.pyplot as plt\n",
    "import matplotlib as mpl\n",
    "import plotly.express as px"
   ]
  },
  {
   "cell_type": "markdown",
   "metadata": {
    "papermill": {
     "duration": 0.014604,
     "end_time": "2024-06-03T17:01:22.338854",
     "exception": false,
     "start_time": "2024-06-03T17:01:22.32425",
     "status": "completed"
    },
    "tags": []
   },
   "source": [
    "## Library Version"
   ]
  },
  {
   "cell_type": "code",
   "execution_count": null,
   "metadata": {
    "_kg_hide-input": true,
    "execution": {
     "iopub.execute_input": "2024-10-15T21:33:24.476581Z",
     "iopub.status.busy": "2024-10-15T21:33:24.475972Z",
     "iopub.status.idle": "2024-10-15T21:33:24.482259Z",
     "shell.execute_reply": "2024-10-15T21:33:24.481199Z",
     "shell.execute_reply.started": "2024-10-15T21:33:24.476546Z"
    },
    "papermill": {
     "duration": 0.023487,
     "end_time": "2024-06-03T17:01:22.377",
     "exception": false,
     "start_time": "2024-06-03T17:01:22.353513",
     "status": "completed"
    },
    "tags": [],
    "trusted": true
   },
   "outputs": [],
   "source": [
    "print(\"TensorFlow:\", tf.__version__)\n",
    "print(\"Keras:\", keras.__version__)\n",
    "print(\"KerasNLP:\", keras_nlp.__version__)"
   ]
  },
  {
   "cell_type": "markdown",
   "metadata": {
    "papermill": {
     "duration": 0.014156,
     "end_time": "2024-06-03T17:01:22.405533",
     "exception": false,
     "start_time": "2024-06-03T17:01:22.391377",
     "status": "completed"
    },
    "tags": []
   },
   "source": [
    "# ⚙️ | Configuration"
   ]
  },
  {
   "cell_type": "code",
   "execution_count": null,
   "metadata": {
    "_kg_hide-input": true,
    "execution": {
     "iopub.execute_input": "2024-10-15T21:33:24.483968Z",
     "iopub.status.busy": "2024-10-15T21:33:24.483596Z",
     "iopub.status.idle": "2024-10-15T21:33:24.511203Z",
     "shell.execute_reply": "2024-10-15T21:33:24.510272Z",
     "shell.execute_reply.started": "2024-10-15T21:33:24.483921Z"
    },
    "papermill": {
     "duration": 0.023008,
     "end_time": "2024-06-03T17:01:22.442868",
     "exception": false,
     "start_time": "2024-06-03T17:01:22.41986",
     "status": "completed"
    },
    "tags": [],
    "trusted": true
   },
   "outputs": [],
   "source": [
    "class CFG:\n",
    "    seed = 42  # Random seed\n",
    "    preset = \"deberta_v3_extra_small_en\" # Name of pretrained models\n",
    "    sequence_length = 512  # Input sequence length\n",
    "    epochs = 3 # Training epochs\n",
    "    batch_size = 16  # Batch size\n",
    "    scheduler = 'cosine'  # Learning rate scheduler\n",
    "    label2name = {0: 'winner_model_a', 1: 'winner_model_b', 2: 'winner_tie'}\n",
    "    name2label = {v:k for k, v in label2name.items()}\n",
    "    class_labels = list(label2name.keys())\n",
    "    class_names = list(label2name.values())"
   ]
  },
  {
   "cell_type": "markdown",
   "metadata": {
    "papermill": {
     "duration": 0.014043,
     "end_time": "2024-06-03T17:01:22.471173",
     "exception": false,
     "start_time": "2024-06-03T17:01:22.45713",
     "status": "completed"
    },
    "tags": []
   },
   "source": [
    "# ♻️ | Reproducibility \n",
    "Sets value for random seed to produce similar result in each run."
   ]
  },
  {
   "cell_type": "code",
   "execution_count": null,
   "metadata": {
    "execution": {
     "iopub.execute_input": "2024-10-15T21:33:24.512763Z",
     "iopub.status.busy": "2024-10-15T21:33:24.512428Z",
     "iopub.status.idle": "2024-10-15T21:33:24.521145Z",
     "shell.execute_reply": "2024-10-15T21:33:24.520312Z",
     "shell.execute_reply.started": "2024-10-15T21:33:24.512731Z"
    },
    "papermill": {
     "duration": 0.021526,
     "end_time": "2024-06-03T17:01:22.506961",
     "exception": false,
     "start_time": "2024-06-03T17:01:22.485435",
     "status": "completed"
    },
    "tags": [],
    "trusted": true
   },
   "outputs": [],
   "source": [
    "keras.utils.set_random_seed(CFG.seed)"
   ]
  },
  {
   "cell_type": "markdown",
   "metadata": {
    "papermill": {
     "duration": 0.01407,
     "end_time": "2024-06-03T17:01:22.535249",
     "exception": false,
     "start_time": "2024-06-03T17:01:22.521179",
     "status": "completed"
    },
    "tags": []
   },
   "source": [
    "# 🧮 | Mixed Precision\n",
    "\n",
    "In this notebook, we will use mixed precision instead of float32 precision for training and inference to reduce GPU memory usage. This will ultimately allow us to use larger batch sizes, thus reducing our training and inference time."
   ]
  },
  {
   "cell_type": "code",
   "execution_count": null,
   "metadata": {
    "execution": {
     "iopub.execute_input": "2024-10-15T21:33:24.524624Z",
     "iopub.status.busy": "2024-10-15T21:33:24.524277Z",
     "iopub.status.idle": "2024-10-15T21:33:24.530475Z",
     "shell.execute_reply": "2024-10-15T21:33:24.529696Z",
     "shell.execute_reply.started": "2024-10-15T21:33:24.524579Z"
    },
    "papermill": {
     "duration": 0.020673,
     "end_time": "2024-06-03T17:01:22.570123",
     "exception": false,
     "start_time": "2024-06-03T17:01:22.54945",
     "status": "completed"
    },
    "tags": [],
    "trusted": true
   },
   "outputs": [],
   "source": [
    "keras.mixed_precision.set_global_policy(\"mixed_float16\")"
   ]
  },
  {
   "cell_type": "markdown",
   "metadata": {
    "papermill": {
     "duration": 0.013868,
     "end_time": "2024-06-03T17:01:22.598204",
     "exception": false,
     "start_time": "2024-06-03T17:01:22.584336",
     "status": "completed"
    },
    "tags": []
   },
   "source": [
    "# 📁 | Dataset Path "
   ]
  },
  {
   "cell_type": "code",
   "execution_count": null,
   "metadata": {
    "execution": {
     "iopub.execute_input": "2024-10-15T21:33:24.531831Z",
     "iopub.status.busy": "2024-10-15T21:33:24.531493Z",
     "iopub.status.idle": "2024-10-15T21:33:24.539552Z",
     "shell.execute_reply": "2024-10-15T21:33:24.53866Z",
     "shell.execute_reply.started": "2024-10-15T21:33:24.531796Z"
    },
    "papermill": {
     "duration": 0.020401,
     "end_time": "2024-06-03T17:01:22.63286",
     "exception": false,
     "start_time": "2024-06-03T17:01:22.612459",
     "status": "completed"
    },
    "tags": [],
    "trusted": true
   },
   "outputs": [],
   "source": [
    "BASE_PATH = '/kaggle/input/llm-classification-finetuning'"
   ]
  },
  {
   "cell_type": "markdown",
   "metadata": {
    "papermill": {
     "duration": 0.01414,
     "end_time": "2024-06-03T17:01:22.661285",
     "exception": false,
     "start_time": "2024-06-03T17:01:22.647145",
     "status": "completed"
    },
    "tags": []
   },
   "source": [
    "# 📖 | Meta Data \n",
    "\n",
    "The competition dataset comprises user interactions from the ChatBot Arena. In each interaction, a judge presents one or more prompts to two different large language models and then indicates which model provided the more satisfactory response. The training data contains `55,000` rows, with an expected `25,000` rows in the test set.\n",
    "\n",
    "## Files\n",
    "\n",
    "### `train.csv`\n",
    "- `id`: Unique identifier for each row.\n",
    "- `model_[a/b]`: Model identity, present in train.csv but not in test.csv.\n",
    "- `prompt`: Input prompt given to both models.\n",
    "- `response_[a/b]`: Model_[a/b]'s response to the prompt.\n",
    "- `winner_model_[a/b/tie]`: Binary columns indicating the judge's selection (ground truth target).\n",
    "\n",
    "### `test.csv`\n",
    "- `id`: Unique identifier for each row.\n",
    "- `prompt`: Input prompt given to both models.\n",
    "- `response_[a/b]`: Model_[a/b]'s response to the prompt.\n",
    "\n",
    "> Note that each interaction may have multiple prompts and responses, but this notebook will use only **one prompt per interaction**. You can choose to use all prompts and responses. Additionally, prompts and responses in the dataframe are provided as string-formatted lists, so they need to be converted to literal lists using `eval()`.\n"
   ]
  },
  {
   "cell_type": "markdown",
   "metadata": {
    "papermill": {
     "duration": 0.013838,
     "end_time": "2024-06-03T17:01:22.689785",
     "exception": false,
     "start_time": "2024-06-03T17:01:22.675947",
     "status": "completed"
    },
    "tags": []
   },
   "source": [
    "## Train Data"
   ]
  },
  {
   "cell_type": "code",
   "execution_count": null,
   "metadata": {
    "_kg_hide-input": true,
    "execution": {
     "iopub.execute_input": "2024-10-15T21:33:24.54119Z",
     "iopub.status.busy": "2024-10-15T21:33:24.540786Z",
     "iopub.status.idle": "2024-10-15T21:33:32.253161Z",
     "shell.execute_reply": "2024-10-15T21:33:32.252161Z",
     "shell.execute_reply.started": "2024-10-15T21:33:24.541148Z"
    },
    "papermill": {
     "duration": 8.625467,
     "end_time": "2024-06-03T17:01:31.32943",
     "exception": false,
     "start_time": "2024-06-03T17:01:22.703963",
     "status": "completed"
    },
    "tags": [],
    "trusted": true
   },
   "outputs": [],
   "source": [
    "# Load Train Data\n",
    "df = pd.read_csv(f'{BASE_PATH}/train.csv') \n",
    "\n",
    "# Sample data\n",
    "# df = df.sample(frac=0.10)\n",
    "\n",
    "# Take the first prompt and its associated response\n",
    "df[\"prompt\"] = df.prompt.map(lambda x: eval(x)[0])\n",
    "df[\"response_a\"] = df.response_a.map(lambda x: eval(x.replace(\"null\",\"''\"))[0])\n",
    "df[\"response_b\"] = df.response_b.map(lambda x: eval(x.replace(\"null\", \"''\"))[0])\n",
    "\n",
    "# Label conversion\n",
    "df[\"class_name\"] = df[[\"winner_model_a\", \"winner_model_b\" , \"winner_tie\"]].idxmax(axis=1)\n",
    "df[\"class_label\"] = df.class_name.map(CFG.name2label)\n",
    "\n",
    "# Show Sample\n",
    "df.head()"
   ]
  },
  {
   "cell_type": "markdown",
   "metadata": {
    "papermill": {
     "duration": 0.014609,
     "end_time": "2024-06-03T17:01:31.359794",
     "exception": false,
     "start_time": "2024-06-03T17:01:31.345185",
     "status": "completed"
    },
    "tags": []
   },
   "source": [
    "## Test Data"
   ]
  },
  {
   "cell_type": "code",
   "execution_count": null,
   "metadata": {
    "execution": {
     "iopub.execute_input": "2024-10-15T21:33:32.254538Z",
     "iopub.status.busy": "2024-10-15T21:33:32.254262Z",
     "iopub.status.idle": "2024-10-15T21:33:32.27166Z",
     "shell.execute_reply": "2024-10-15T21:33:32.270735Z",
     "shell.execute_reply.started": "2024-10-15T21:33:32.254508Z"
    },
    "papermill": {
     "duration": 0.034633,
     "end_time": "2024-06-03T17:01:31.409034",
     "exception": false,
     "start_time": "2024-06-03T17:01:31.374401",
     "status": "completed"
    },
    "tags": [],
    "trusted": true
   },
   "outputs": [],
   "source": [
    "# Load Test Data\n",
    "test_df = pd.read_csv(f'{BASE_PATH}/test.csv')\n",
    "\n",
    "# Take the first prompt and response\n",
    "test_df[\"prompt\"] = test_df.prompt.map(lambda x: eval(x)[0])\n",
    "test_df[\"response_a\"] = test_df.response_a.map(lambda x: eval(x.replace(\"null\",\"''\"))[0])\n",
    "test_df[\"response_b\"] = test_df.response_b.map(lambda x: eval(x.replace(\"null\", \"''\"))[0])\n",
    "\n",
    "# Show Sample\n",
    "test_df.head()"
   ]
  },
  {
   "cell_type": "markdown",
   "metadata": {
    "papermill": {
     "duration": 0.014711,
     "end_time": "2024-06-03T17:01:31.438974",
     "exception": false,
     "start_time": "2024-06-03T17:01:31.424263",
     "status": "completed"
    },
    "tags": []
   },
   "source": [
    "## Contextualize Response with Prompt\n",
    "\n",
    "In our approach, we will contextualize each response with the prompt instead of using a single prompt for all responses. This means that for each response, we will provide the model with the same set of prompts combined with their respective response (e.g., `(P + R_A)`, `(P + R_B)`, etc.). This approach is similar to the multiple-choice question task in NLP.\n",
    "\n",
    "> Note that some prompts and responses may not be encoded with `utf-8`, resulting in errors when creating the dataloader. In such cases, we will replace them with an empty string.\n"
   ]
  },
  {
   "cell_type": "code",
   "execution_count": null,
   "metadata": {
    "execution": {
     "iopub.execute_input": "2024-10-15T21:33:32.273101Z",
     "iopub.status.busy": "2024-10-15T21:33:32.27279Z",
     "iopub.status.idle": "2024-10-15T21:33:32.279979Z",
     "shell.execute_reply": "2024-10-15T21:33:32.279128Z",
     "shell.execute_reply.started": "2024-10-15T21:33:32.273067Z"
    },
    "papermill": {
     "duration": 0.023596,
     "end_time": "2024-06-03T17:01:31.477321",
     "exception": false,
     "start_time": "2024-06-03T17:01:31.453725",
     "status": "completed"
    },
    "tags": [],
    "trusted": true
   },
   "outputs": [],
   "source": [
    "# Define a function to create options based on the prompt and choices\n",
    "def make_pairs(row):\n",
    "    row[\"encode_fail\"] = False\n",
    "    try:\n",
    "        prompt = row.prompt.encode(\"utf-8\").decode(\"utf-8\")\n",
    "    except:\n",
    "        prompt = \"\"\n",
    "        row[\"encode_fail\"] = True\n",
    "\n",
    "    try:\n",
    "        response_a = row.response_a.encode(\"utf-8\").decode(\"utf-8\")\n",
    "    except:\n",
    "        response_a = \"\"\n",
    "        row[\"encode_fail\"] = True\n",
    "\n",
    "    try:\n",
    "        response_b = row.response_b.encode(\"utf-8\").decode(\"utf-8\")\n",
    "    except:\n",
    "        response_b = \"\"\n",
    "        row[\"encode_fail\"] = True\n",
    "        \n",
    "    row['options'] = [f\"Prompt: {prompt}\\n\\nResponse: {response_a}\",  # Response from Model A\n",
    "                      f\"Prompt: {prompt}\\n\\nResponse: {response_b}\"  # Response from Model B\n",
    "                     ]\n",
    "    return row\n"
   ]
  },
  {
   "cell_type": "code",
   "execution_count": null,
   "metadata": {
    "execution": {
     "iopub.execute_input": "2024-10-15T21:33:32.281657Z",
     "iopub.status.busy": "2024-10-15T21:33:32.281372Z",
     "iopub.status.idle": "2024-10-15T21:34:34.215854Z",
     "shell.execute_reply": "2024-10-15T21:34:34.214876Z",
     "shell.execute_reply.started": "2024-10-15T21:33:32.281627Z"
    },
    "papermill": {
     "duration": 62.732686,
     "end_time": "2024-06-03T17:02:34.262915",
     "exception": false,
     "start_time": "2024-06-03T17:01:31.530229",
     "status": "completed"
    },
    "tags": [],
    "trusted": true
   },
   "outputs": [],
   "source": [
    "df = df.apply(make_pairs, axis=1)  # Apply the make_pairs function to each row in df\n",
    "display(df.head(2))  # Display the first 2 rows of df\n",
    "\n",
    "test_df = test_df.apply(make_pairs, axis=1)  # Apply the make_pairs function to each row in df\n",
    "display(test_df.head(2))  # Display the first 2 rows of df"
   ]
  },
  {
   "cell_type": "markdown",
   "metadata": {
    "papermill": {
     "duration": 0.015064,
     "end_time": "2024-06-03T17:02:34.293411",
     "exception": false,
     "start_time": "2024-06-03T17:02:34.278347",
     "status": "completed"
    },
    "tags": []
   },
   "source": [
    "## Encoding Fail Statistics\n",
    "\n",
    "Let's examine how many samples have encoding issues. From the code below, we can see that only $1\\%$ of the samples failed to be encoded, while $99\\%$ of the samples don't have any issues. A similar pattern can be expected for the test data as well. Thus, considering empty strings for this small portion of the data will not have much impact on our training and inference."
   ]
  },
  {
   "cell_type": "code",
   "execution_count": null,
   "metadata": {
    "execution": {
     "iopub.execute_input": "2024-10-15T21:34:34.217307Z",
     "iopub.status.busy": "2024-10-15T21:34:34.216989Z",
     "iopub.status.idle": "2024-10-15T21:34:34.230973Z",
     "shell.execute_reply": "2024-10-15T21:34:34.230102Z",
     "shell.execute_reply.started": "2024-10-15T21:34:34.217273Z"
    },
    "papermill": {
     "duration": 0.032427,
     "end_time": "2024-06-03T17:02:34.341044",
     "exception": false,
     "start_time": "2024-06-03T17:02:34.308617",
     "status": "completed"
    },
    "tags": [],
    "trusted": true
   },
   "outputs": [],
   "source": [
    "df.encode_fail.value_counts(normalize=False)"
   ]
  },
  {
   "cell_type": "markdown",
   "metadata": {
    "papermill": {
     "duration": 0.015466,
     "end_time": "2024-06-03T17:02:34.372077",
     "exception": false,
     "start_time": "2024-06-03T17:02:34.356611",
     "status": "completed"
    },
    "tags": []
   },
   "source": [
    "# 🎨 | Exploratory Data Analysis (EDA)"
   ]
  },
  {
   "cell_type": "markdown",
   "metadata": {
    "papermill": {
     "duration": 0.015944,
     "end_time": "2024-06-03T17:02:34.404115",
     "exception": false,
     "start_time": "2024-06-03T17:02:34.388171",
     "status": "completed"
    },
    "tags": []
   },
   "source": [
    "## LLM Distribution"
   ]
  },
  {
   "cell_type": "code",
   "execution_count": null,
   "metadata": {
    "_kg_hide-input": true,
    "execution": {
     "iopub.execute_input": "2024-10-15T21:34:34.232357Z",
     "iopub.status.busy": "2024-10-15T21:34:34.232056Z",
     "iopub.status.idle": "2024-10-15T21:34:35.752145Z",
     "shell.execute_reply": "2024-10-15T21:34:35.751286Z",
     "shell.execute_reply.started": "2024-10-15T21:34:34.232324Z"
    },
    "papermill": {
     "duration": 1.475495,
     "end_time": "2024-06-03T17:02:35.895386",
     "exception": false,
     "start_time": "2024-06-03T17:02:34.419891",
     "status": "completed"
    },
    "tags": [],
    "trusted": true
   },
   "outputs": [],
   "source": [
    "model_df = pd.concat([df.model_a, df.model_b])\n",
    "counts = model_df.value_counts().reset_index()\n",
    "counts.columns = ['LLM', 'Count']\n",
    "\n",
    "# Create a bar plot with custom styling using Plotly\n",
    "fig = px.bar(counts, x='LLM', y='Count',\n",
    "             title='Distribution of LLMs',\n",
    "             color='Count', color_continuous_scale='viridis')\n",
    "\n",
    "fig.update_layout(xaxis_tickangle=-45)  # Rotate x-axis labels for better readability\n",
    "\n",
    "fig.show()\n"
   ]
  },
  {
   "cell_type": "markdown",
   "metadata": {
    "papermill": {
     "duration": 0.016453,
     "end_time": "2024-06-03T17:02:35.928279",
     "exception": false,
     "start_time": "2024-06-03T17:02:35.911826",
     "status": "completed"
    },
    "tags": []
   },
   "source": [
    "## Winning Distribution"
   ]
  },
  {
   "cell_type": "code",
   "execution_count": null,
   "metadata": {
    "_kg_hide-input": true,
    "execution": {
     "iopub.execute_input": "2024-10-15T21:34:35.75371Z",
     "iopub.status.busy": "2024-10-15T21:34:35.753414Z",
     "iopub.status.idle": "2024-10-15T21:34:35.850945Z",
     "shell.execute_reply": "2024-10-15T21:34:35.850109Z",
     "shell.execute_reply.started": "2024-10-15T21:34:35.753677Z"
    },
    "papermill": {
     "duration": 0.112531,
     "end_time": "2024-06-03T17:02:36.056818",
     "exception": false,
     "start_time": "2024-06-03T17:02:35.944287",
     "status": "completed"
    },
    "tags": [],
    "trusted": true
   },
   "outputs": [],
   "source": [
    "counts = df['class_name'].value_counts().reset_index()\n",
    "counts.columns = ['Winner', 'Win Count']\n",
    "\n",
    "fig = px.bar(counts, x='Winner', y='Win Count',\n",
    "             title='Winner distribution for Train Data',\n",
    "             labels={'Winner': 'Winner', 'Win Count': 'Win Count'},\n",
    "             color='Winner', color_continuous_scale='viridis')\n",
    "\n",
    "fig.update_layout(xaxis_title=\"Winner\", yaxis_title=\"Win Count\")\n",
    "\n",
    "fig.show()\n"
   ]
  },
  {
   "cell_type": "markdown",
   "metadata": {
    "papermill": {
     "duration": 0.016208,
     "end_time": "2024-06-03T17:02:36.090042",
     "exception": false,
     "start_time": "2024-06-03T17:02:36.073834",
     "status": "completed"
    },
    "tags": []
   },
   "source": [
    "# 🔪 | Data Split\n",
    "\n",
    "In the code snippet provided below, we will divide the existing data into training and validation using a stratification of `class_label` column."
   ]
  },
  {
   "cell_type": "code",
   "execution_count": null,
   "metadata": {
    "_kg_hide-input": true,
    "execution": {
     "iopub.execute_input": "2024-10-15T21:34:35.855244Z",
     "iopub.status.busy": "2024-10-15T21:34:35.854863Z",
     "iopub.status.idle": "2024-10-15T21:34:36.374555Z",
     "shell.execute_reply": "2024-10-15T21:34:36.373639Z",
     "shell.execute_reply.started": "2024-10-15T21:34:35.8552Z"
    },
    "papermill": {
     "duration": 0.779715,
     "end_time": "2024-06-03T17:02:36.885945",
     "exception": false,
     "start_time": "2024-06-03T17:02:36.10623",
     "status": "completed"
    },
    "tags": [],
    "trusted": true
   },
   "outputs": [],
   "source": [
    "from sklearn.model_selection import train_test_split  # Import package\n",
    "\n",
    "train_df, valid_df = train_test_split(df, test_size=0.2, stratify=df[\"class_label\"])"
   ]
  },
  {
   "cell_type": "markdown",
   "metadata": {
    "papermill": {
     "duration": 0.016189,
     "end_time": "2024-06-03T17:02:36.919019",
     "exception": false,
     "start_time": "2024-06-03T17:02:36.90283",
     "status": "completed"
    },
    "tags": []
   },
   "source": [
    "# 🍽️ | Preprocessing\n",
    "\n",
    "**What it does:** The preprocessor takes input strings and transforms them into a dictionary (`token_ids`, `padding_mask`) containing preprocessed tensors. This process starts with tokenization, where input strings are converted into sequences of token IDs.\n",
    "\n",
    "**Why it's important:** Initially, raw text data is complex and challenging for modeling due to its high dimensionality. By converting text into a compact set of tokens, such as transforming `\"The quick brown fox\"` into `[\"the\", \"qu\", \"##ick\", \"br\", \"##own\", \"fox\"]`, we simplify the data. Many models rely on special tokens and additional tensors to understand input. These tokens help divide input and identify padding, among other tasks. Making all sequences the same length through padding boosts computational efficiency, making subsequent steps smoother.\n",
    "\n",
    "Explore the following pages to access the available preprocessing and tokenizer layers in **KerasNLP**:\n",
    "- [Preprocessing](https://keras.io/api/keras_nlp/preprocessing_layers/)\n",
    "- [Tokenizers](https://keras.io/api/keras_nlp/tokenizers/)"
   ]
  },
  {
   "cell_type": "code",
   "execution_count": null,
   "metadata": {
    "execution": {
     "iopub.execute_input": "2024-10-15T21:34:36.376295Z",
     "iopub.status.busy": "2024-10-15T21:34:36.375618Z",
     "iopub.status.idle": "2024-10-15T21:34:40.41785Z",
     "shell.execute_reply": "2024-10-15T21:34:40.416944Z",
     "shell.execute_reply.started": "2024-10-15T21:34:36.37622Z"
    },
    "papermill": {
     "duration": 3.390834,
     "end_time": "2024-06-03T17:02:40.326479",
     "exception": false,
     "start_time": "2024-06-03T17:02:36.935645",
     "status": "completed"
    },
    "tags": [],
    "trusted": true
   },
   "outputs": [],
   "source": [
    "preprocessor = keras_nlp.models.DebertaV3Preprocessor.from_preset(\n",
    "    preset=CFG.preset, # Name of the model\n",
    "    sequence_length=CFG.sequence_length, # Max sequence length, will be padded if shorter\n",
    ")"
   ]
  },
  {
   "cell_type": "markdown",
   "metadata": {
    "papermill": {
     "duration": 0.016599,
     "end_time": "2024-06-03T17:02:40.360813",
     "exception": false,
     "start_time": "2024-06-03T17:02:40.344214",
     "status": "completed"
    },
    "tags": []
   },
   "source": [
    "Now, let's examine what the output shape of the preprocessing layer looks like. The output shape of the layer can be represented as $(num\\_responses, sequence\\_length)$."
   ]
  },
  {
   "cell_type": "code",
   "execution_count": null,
   "metadata": {
    "execution": {
     "iopub.execute_input": "2024-10-15T21:34:40.419802Z",
     "iopub.status.busy": "2024-10-15T21:34:40.419379Z",
     "iopub.status.idle": "2024-10-15T21:34:41.206297Z",
     "shell.execute_reply": "2024-10-15T21:34:41.205407Z",
     "shell.execute_reply.started": "2024-10-15T21:34:40.419757Z"
    },
    "papermill": {
     "duration": 1.056025,
     "end_time": "2024-06-03T17:02:41.433464",
     "exception": false,
     "start_time": "2024-06-03T17:02:40.377439",
     "status": "completed"
    },
    "tags": [],
    "trusted": true
   },
   "outputs": [],
   "source": [
    "outs = preprocessor(df.options.iloc[0])  # Process options for the first row\n",
    "\n",
    "# Display the shape of each processed output\n",
    "for k, v in outs.items():\n",
    "    print(k, \":\", v.shape)"
   ]
  },
  {
   "cell_type": "markdown",
   "metadata": {
    "papermill": {
     "duration": 0.018502,
     "end_time": "2024-06-03T17:02:41.469384",
     "exception": false,
     "start_time": "2024-06-03T17:02:41.450882",
     "status": "completed"
    },
    "tags": []
   },
   "source": [
    "We'll use the `preprocessing_fn` function to transform each text option using the `dataset.map(preprocessing_fn)` method."
   ]
  },
  {
   "cell_type": "code",
   "execution_count": null,
   "metadata": {
    "execution": {
     "iopub.execute_input": "2024-10-15T21:34:41.208136Z",
     "iopub.status.busy": "2024-10-15T21:34:41.207682Z",
     "iopub.status.idle": "2024-10-15T21:34:41.213703Z",
     "shell.execute_reply": "2024-10-15T21:34:41.212655Z",
     "shell.execute_reply.started": "2024-10-15T21:34:41.208091Z"
    },
    "papermill": {
     "duration": 0.024249,
     "end_time": "2024-06-03T17:02:41.510214",
     "exception": false,
     "start_time": "2024-06-03T17:02:41.485965",
     "status": "completed"
    },
    "tags": [],
    "trusted": true
   },
   "outputs": [],
   "source": [
    "def preprocess_fn(text, label=None):\n",
    "    text = preprocessor(text)  # Preprocess text\n",
    "    return (text, label) if label is not None else text  # Return processed text and label if available"
   ]
  },
  {
   "cell_type": "markdown",
   "metadata": {
    "papermill": {
     "duration": 0.016686,
     "end_time": "2024-06-03T17:02:41.543394",
     "exception": false,
     "start_time": "2024-06-03T17:02:41.526708",
     "status": "completed"
    },
    "tags": []
   },
   "source": [
    "# 🍚 | DataLoader\n",
    "\n",
    "The code below sets up a robust data flow pipeline using `tf.data.Dataset` for data processing. Notable aspects of `tf.data` include its ability to simplify pipeline construction and represent components in sequences.\n",
    "\n",
    "To learn more about `tf.data`, refer to this [documentation](https://www.tensorflow.org/guide/data)."
   ]
  },
  {
   "cell_type": "code",
   "execution_count": null,
   "metadata": {
    "_kg_hide-input": true,
    "execution": {
     "iopub.execute_input": "2024-10-15T21:34:41.215219Z",
     "iopub.status.busy": "2024-10-15T21:34:41.214913Z",
     "iopub.status.idle": "2024-10-15T21:34:41.225395Z",
     "shell.execute_reply": "2024-10-15T21:34:41.224663Z",
     "shell.execute_reply.started": "2024-10-15T21:34:41.215188Z"
    },
    "papermill": {
     "duration": 0.026326,
     "end_time": "2024-06-03T17:02:41.586658",
     "exception": false,
     "start_time": "2024-06-03T17:02:41.560332",
     "status": "completed"
    },
    "tags": [],
    "trusted": true
   },
   "outputs": [],
   "source": [
    "def build_dataset(texts, labels=None, batch_size=32,\n",
    "                  cache=True, shuffle=1024):\n",
    "    AUTO = tf.data.AUTOTUNE  # AUTOTUNE option\n",
    "    slices = (texts,) if labels is None else (texts, keras.utils.to_categorical(labels, num_classes=3))  # Create slices\n",
    "    ds = tf.data.Dataset.from_tensor_slices(slices)  # Create dataset from slices\n",
    "    ds = ds.cache() if cache else ds  # Cache dataset if enabled\n",
    "    ds = ds.map(preprocess_fn, num_parallel_calls=AUTO)  # Map preprocessing function\n",
    "    opt = tf.data.Options()  # Create dataset options\n",
    "    if shuffle: \n",
    "        ds = ds.shuffle(shuffle, seed=CFG.seed)  # Shuffle dataset if enabled\n",
    "        opt.experimental_deterministic = False\n",
    "    ds = ds.with_options(opt)  # Set dataset options\n",
    "    ds = ds.batch(batch_size, drop_remainder=False)  # Batch dataset\n",
    "    ds = ds.prefetch(AUTO)  # Prefetch next batch\n",
    "    return ds  # Return the built dataset"
   ]
  },
  {
   "cell_type": "markdown",
   "metadata": {
    "papermill": {
     "duration": 0.016559,
     "end_time": "2024-06-03T17:02:41.619713",
     "exception": false,
     "start_time": "2024-06-03T17:02:41.603154",
     "status": "completed"
    },
    "tags": []
   },
   "source": [
    "## Build Train/Valid Dataloader"
   ]
  },
  {
   "cell_type": "code",
   "execution_count": null,
   "metadata": {
    "_kg_hide-input": false,
    "execution": {
     "iopub.execute_input": "2024-10-15T21:34:41.226625Z",
     "iopub.status.busy": "2024-10-15T21:34:41.226367Z",
     "iopub.status.idle": "2024-10-15T21:34:46.353046Z",
     "shell.execute_reply": "2024-10-15T21:34:46.352241Z",
     "shell.execute_reply.started": "2024-10-15T21:34:41.226595Z"
    },
    "papermill": {
     "duration": 5.308478,
     "end_time": "2024-06-03T17:02:46.944786",
     "exception": false,
     "start_time": "2024-06-03T17:02:41.636308",
     "status": "completed"
    },
    "tags": [],
    "trusted": true
   },
   "outputs": [],
   "source": [
    "# Train\n",
    "train_texts = train_df.options.tolist()  # Extract training texts\n",
    "train_labels = train_df.class_label.tolist()  # Extract training labels\n",
    "train_ds = build_dataset(train_texts, train_labels,\n",
    "                         batch_size=CFG.batch_size,\n",
    "                         shuffle=True)\n",
    "\n",
    "# Valid\n",
    "valid_texts = valid_df.options.tolist()  # Extract validation texts\n",
    "valid_labels = valid_df.class_label.tolist()  # Extract validation labels\n",
    "valid_ds = build_dataset(valid_texts, valid_labels,\n",
    "                         batch_size=CFG.batch_size,\n",
    "                         shuffle=False)"
   ]
  },
  {
   "cell_type": "markdown",
   "metadata": {
    "papermill": {
     "duration": 0.017157,
     "end_time": "2024-06-03T17:02:46.979278",
     "exception": false,
     "start_time": "2024-06-03T17:02:46.962121",
     "status": "completed"
    },
    "tags": []
   },
   "source": [
    "# ⚓ | LR Schedule\n",
    "\n",
    "Implementing a learning rate scheduler is crucial for transfer learning. The learning rate initiates at `lr_start` and gradually tapers down to `lr_min` using various techniques, including:\n",
    "- `step`: Lowering the learning rate in step-wise manner resembling stairs.\n",
    "- `cos`: Utilizing a cosine curve to gradually reduce the learning rate.\n",
    "- `exp`: Exponentially decreasing the learning rate.\n",
    "\n",
    "**Importance:** A well-structured learning rate schedule is essential for efficient model training, ensuring optimal convergence and avoiding issues such as overshooting or stagnation."
   ]
  },
  {
   "cell_type": "code",
   "execution_count": null,
   "metadata": {
    "_kg_hide-input": true,
    "execution": {
     "iopub.execute_input": "2024-10-15T21:34:46.354436Z",
     "iopub.status.busy": "2024-10-15T21:34:46.354122Z",
     "iopub.status.idle": "2024-10-15T21:34:46.364293Z",
     "shell.execute_reply": "2024-10-15T21:34:46.363261Z",
     "shell.execute_reply.started": "2024-10-15T21:34:46.354403Z"
    },
    "papermill": {
     "duration": 0.030355,
     "end_time": "2024-06-03T17:02:47.026587",
     "exception": false,
     "start_time": "2024-06-03T17:02:46.996232",
     "status": "completed"
    },
    "tags": [],
    "trusted": true
   },
   "outputs": [],
   "source": [
    "import math\n",
    "\n",
    "def get_lr_callback(batch_size=8, mode='cos', epochs=10, plot=False):\n",
    "    lr_start, lr_max, lr_min = 1.0e-6, 0.6e-6 * batch_size, 1e-6\n",
    "    lr_ramp_ep, lr_sus_ep, lr_decay = 2, 0, 0.8\n",
    "\n",
    "    def lrfn(epoch):  # Learning rate update function\n",
    "        if epoch < lr_ramp_ep: lr = (lr_max - lr_start) / lr_ramp_ep * epoch + lr_start\n",
    "        elif epoch < lr_ramp_ep + lr_sus_ep: lr = lr_max\n",
    "        elif mode == 'exp': lr = (lr_max - lr_min) * lr_decay**(epoch - lr_ramp_ep - lr_sus_ep) + lr_min\n",
    "        elif mode == 'step': lr = lr_max * lr_decay**((epoch - lr_ramp_ep - lr_sus_ep) // 2)\n",
    "        elif mode == 'cos':\n",
    "            decay_total_epochs, decay_epoch_index = epochs - lr_ramp_ep - lr_sus_ep + 3, epoch - lr_ramp_ep - lr_sus_ep\n",
    "            phase = math.pi * decay_epoch_index / decay_total_epochs\n",
    "            lr = (lr_max - lr_min) * 0.5 * (1 + math.cos(phase)) + lr_min\n",
    "        return lr\n",
    "\n",
    "    if plot:  # Plot lr curve if plot is True\n",
    "        plt.figure(figsize=(10, 5))\n",
    "        plt.plot(np.arange(epochs), [lrfn(epoch) for epoch in np.arange(epochs)], marker='o')\n",
    "        plt.xlabel('epoch'); plt.ylabel('lr')\n",
    "        plt.title('LR Scheduler')\n",
    "        plt.show()\n",
    "\n",
    "    return keras.callbacks.LearningRateScheduler(lrfn, verbose=False)  # Create lr callback"
   ]
  },
  {
   "cell_type": "code",
   "execution_count": null,
   "metadata": {
    "execution": {
     "iopub.execute_input": "2024-10-15T21:34:46.365797Z",
     "iopub.status.busy": "2024-10-15T21:34:46.365491Z",
     "iopub.status.idle": "2024-10-15T21:34:46.666714Z",
     "shell.execute_reply": "2024-10-15T21:34:46.665738Z",
     "shell.execute_reply.started": "2024-10-15T21:34:46.365765Z"
    },
    "papermill": {
     "duration": 0.302348,
     "end_time": "2024-06-03T17:02:47.345856",
     "exception": false,
     "start_time": "2024-06-03T17:02:47.043508",
     "status": "completed"
    },
    "tags": [],
    "trusted": true
   },
   "outputs": [],
   "source": [
    "lr_cb = get_lr_callback(CFG.batch_size, plot=True)"
   ]
  },
  {
   "cell_type": "markdown",
   "metadata": {
    "papermill": {
     "duration": 0.017351,
     "end_time": "2024-06-03T17:02:47.381369",
     "exception": false,
     "start_time": "2024-06-03T17:02:47.364018",
     "status": "completed"
    },
    "tags": []
   },
   "source": [
    "# 💾 | Model Checkpointing\n",
    "\n",
    "The following code will create a callback that will save the best checkpoint of the model during training, which we will use for inference in the submission."
   ]
  },
  {
   "cell_type": "code",
   "execution_count": null,
   "metadata": {
    "_kg_hide-input": true,
    "execution": {
     "iopub.execute_input": "2024-10-15T21:34:46.668302Z",
     "iopub.status.busy": "2024-10-15T21:34:46.667927Z",
     "iopub.status.idle": "2024-10-15T21:34:46.67303Z",
     "shell.execute_reply": "2024-10-15T21:34:46.672099Z",
     "shell.execute_reply.started": "2024-10-15T21:34:46.668258Z"
    },
    "papermill": {
     "duration": 0.025064,
     "end_time": "2024-06-03T17:02:47.424145",
     "exception": false,
     "start_time": "2024-06-03T17:02:47.399081",
     "status": "completed"
    },
    "tags": [],
    "trusted": true
   },
   "outputs": [],
   "source": [
    "ckpt_cb = keras.callbacks.ModelCheckpoint(f'best_model.weights.h5',\n",
    "                                          monitor='val_log_loss',\n",
    "                                          save_best_only=True,\n",
    "                                          save_weights_only=True,\n",
    "                                          mode='min')  # Get Model checkpoint callback"
   ]
  },
  {
   "cell_type": "markdown",
   "metadata": {
    "papermill": {
     "duration": 0.017033,
     "end_time": "2024-06-03T17:02:47.458564",
     "exception": false,
     "start_time": "2024-06-03T17:02:47.441531",
     "status": "completed"
    },
    "tags": []
   },
   "source": [
    "# 📏 | Metric\n",
    "\n",
    "The metric for this competition is **Log Loss**. This metric can be expressed mathematically as,\n",
    "\n",
    "$$\n",
    "\\text{Log Loss} = -\\frac{1}{N} \\sum_{i=1}^{N} \\left( y_i \\log(p_i) + (1 - y_i) \\log(1 - p_i) \\right)\n",
    "$$\n",
    "\n",
    "where $ N $ is the number of samples, $ y_i $ is the true label, and $ p_i $ is the predicted probability of the sample belonging to the positive class.\n",
    "\n",
    "Note that this metric is similar to categorical cross entropy widely used in classification tasks. Thus, we don't need to implement the loss from scratch. As the Keras library already has an implementation of this metric, we will simply use the metric to monitor performance of our model.\n"
   ]
  },
  {
   "cell_type": "code",
   "execution_count": null,
   "metadata": {
    "execution": {
     "iopub.execute_input": "2024-10-15T21:34:46.674674Z",
     "iopub.status.busy": "2024-10-15T21:34:46.674298Z",
     "iopub.status.idle": "2024-10-15T21:34:46.70391Z",
     "shell.execute_reply": "2024-10-15T21:34:46.703194Z",
     "shell.execute_reply.started": "2024-10-15T21:34:46.674617Z"
    },
    "papermill": {
     "duration": 0.043053,
     "end_time": "2024-06-03T17:02:47.519019",
     "exception": false,
     "start_time": "2024-06-03T17:02:47.475966",
     "status": "completed"
    },
    "tags": [],
    "trusted": true
   },
   "outputs": [],
   "source": [
    "log_loss = keras.metrics.CategoricalCrossentropy(name=\"log_loss\")"
   ]
  },
  {
   "cell_type": "markdown",
   "metadata": {
    "papermill": {
     "duration": 0.017265,
     "end_time": "2024-06-03T17:02:47.553968",
     "exception": false,
     "start_time": "2024-06-03T17:02:47.536703",
     "status": "completed"
    },
    "tags": []
   },
   "source": [
    "# 🤖 | Modeling\n",
    "\n",
    "The `KerasNLP` library provides various NLP model architectures such as `Bert`, `Roberta`, `DebertaV3`, and more. While this notebook focuses on `DebertaV3`, you can explore others in the [KerasNLP documentation](https://keras.io/api/keras_nlp/models/). For a deeper understanding, refer to the [getting started guide](https://keras.io/guides/keras_nlp/getting_started/).\n",
    "\n",
    "Our approach utilizes `keras_nlp.models.DebertaV3Classifier` to process each prompt and response pair, generating output embeddings. We then concatenate these embeddings and pass them through a Pooling layer and a classifier to obtain logits, followed by a `softmax` function for the final output.\n",
    "\n",
    "When dealing with multiple responses, we use a weight-sharing strategy. This means we provide the model with one response at a time along with the prompt `(P + R_A)`, `(P + R_B)`, etc., using the same model weights for all responses. After obtaining embeddings for all responses, we concatenate them and apply average pooling. Next, we use a `Linear/Dense` layer along with the `Softmax` function as the classifier for the final result. Providing all responses at once would increase text length and complicate model handling. Note that, in the classifier, we use 3 classes for `winner_model_a`, `winner_model_b`, and `draw` cases.\n",
    "\n",
    "The diagram below illustrates this approach:\n",
    "\n",
    "<div align=\"center\">\n",
    "    <img src=\"https://i.postimg.cc/g0gcvy3f/Kaggle-drawio.png\">\n",
    "</div>\n",
    "\n",
    "From a coding perspective, note that we use the same model for all responses with shared weights, contrary to the separate models implied in the diagram."
   ]
  },
  {
   "cell_type": "code",
   "execution_count": null,
   "metadata": {
    "execution": {
     "iopub.execute_input": "2024-10-15T21:34:46.705299Z",
     "iopub.status.busy": "2024-10-15T21:34:46.704961Z",
     "iopub.status.idle": "2024-10-15T21:34:53.770575Z",
     "shell.execute_reply": "2024-10-15T21:34:53.769735Z",
     "shell.execute_reply.started": "2024-10-15T21:34:46.705262Z"
    },
    "papermill": {
     "duration": 8.231591,
     "end_time": "2024-06-03T17:02:55.802843",
     "exception": false,
     "start_time": "2024-06-03T17:02:47.571252",
     "status": "completed"
    },
    "tags": [],
    "trusted": true
   },
   "outputs": [],
   "source": [
    "# Define input layers\n",
    "inputs = {\n",
    "    \"token_ids\": keras.Input(shape=(2, None), dtype=tf.int32, name=\"token_ids\"),\n",
    "    \"padding_mask\": keras.Input(shape=(2, None), dtype=tf.int32, name=\"padding_mask\"),\n",
    "}\n",
    "# Create a DebertaV3Classifier backbone\n",
    "backbone = keras_nlp.models.DebertaV3Backbone.from_preset(\n",
    "    CFG.preset,\n",
    ")\n",
    "\n",
    "# Compute embeddings for first response: (P + R_A) using backbone\n",
    "response_a = {k: v[:, 0, :] for k, v in inputs.items()}\n",
    "embed_a = backbone(response_a)\n",
    "\n",
    "# Compute embeddings for second response: (P + R_B), using the same backbone\n",
    "response_b = {k: v[:, 1, :] for k, v in inputs.items()}\n",
    "embed_b = backbone(response_b)\n",
    "\n",
    "# Compute final output\n",
    "embeds = keras.layers.Concatenate(axis=-1)([embed_a, embed_b])\n",
    "embeds = keras.layers.GlobalAveragePooling1D()(embeds)\n",
    "outputs = keras.layers.Dense(3, activation=\"softmax\", name=\"classifier\")(embeds)\n",
    "model = keras.Model(inputs, outputs)\n",
    "\n",
    "# Compile the model with optimizer, loss, and metrics\n",
    "model.compile(\n",
    "    optimizer=keras.optimizers.Adam(5e-6),\n",
    "    loss=keras.losses.CategoricalCrossentropy(label_smoothing=0.02),\n",
    "    metrics=[\n",
    "        log_loss,\n",
    "        keras.metrics.CategoricalAccuracy(name=\"accuracy\"),\n",
    "    ],\n",
    ")"
   ]
  },
  {
   "cell_type": "markdown",
   "metadata": {
    "papermill": {
     "duration": 0.018012,
     "end_time": "2024-06-03T17:02:55.83988",
     "exception": false,
     "start_time": "2024-06-03T17:02:55.821868",
     "status": "completed"
    },
    "tags": []
   },
   "source": [
    "### Model Summary"
   ]
  },
  {
   "cell_type": "code",
   "execution_count": null,
   "metadata": {
    "_kg_hide-input": true,
    "execution": {
     "iopub.execute_input": "2024-10-15T21:34:53.772092Z",
     "iopub.status.busy": "2024-10-15T21:34:53.771775Z",
     "iopub.status.idle": "2024-10-15T21:34:53.804794Z",
     "shell.execute_reply": "2024-10-15T21:34:53.80391Z",
     "shell.execute_reply.started": "2024-10-15T21:34:53.77206Z"
    },
    "papermill": {
     "duration": 0.051632,
     "end_time": "2024-06-03T17:02:55.909391",
     "exception": false,
     "start_time": "2024-06-03T17:02:55.857759",
     "status": "completed"
    },
    "tags": [],
    "trusted": true
   },
   "outputs": [],
   "source": [
    "model.summary()"
   ]
  },
  {
   "cell_type": "markdown",
   "metadata": {
    "papermill": {
     "duration": 0.018914,
     "end_time": "2024-06-03T17:02:55.947016",
     "exception": false,
     "start_time": "2024-06-03T17:02:55.928102",
     "status": "completed"
    },
    "tags": []
   },
   "source": [
    "### Model Plot\n",
    "\n",
    "In the model graph below, it may seem there are **four** inputs, but actually, there are **two** as discussed before. Our input consists of two parts, one for each response. However, for each input, we have `token_ids` and `padding_mask`, which makes it look like we have four inputs, but in reality, we have two inputs."
   ]
  },
  {
   "cell_type": "code",
   "execution_count": null,
   "metadata": {
    "_kg_hide-input": true,
    "execution": {
     "iopub.execute_input": "2024-10-15T21:34:53.806097Z",
     "iopub.status.busy": "2024-10-15T21:34:53.805835Z",
     "iopub.status.idle": "2024-10-15T21:34:53.810303Z",
     "shell.execute_reply": "2024-10-15T21:34:53.809223Z",
     "shell.execute_reply.started": "2024-10-15T21:34:53.806067Z"
    },
    "papermill": {
     "duration": 0.025569,
     "end_time": "2024-06-03T17:02:55.991355",
     "exception": false,
     "start_time": "2024-06-03T17:02:55.965786",
     "status": "completed"
    },
    "tags": [],
    "trusted": true
   },
   "outputs": [],
   "source": [
    "# Currently throwing error !! [probably library or env issue, so hopefully will be fixed soon]\n",
    "\n",
    "# keras.utils.plot_model(model, show_shapes=True, show_layer_names=True)"
   ]
  },
  {
   "cell_type": "markdown",
   "metadata": {
    "papermill": {
     "duration": 0.018413,
     "end_time": "2024-06-03T17:02:56.028558",
     "exception": false,
     "start_time": "2024-06-03T17:02:56.010145",
     "status": "completed"
    },
    "tags": []
   },
   "source": [
    "# 🚂 | Training"
   ]
  },
  {
   "cell_type": "code",
   "execution_count": null,
   "metadata": {
    "_kg_hide-input": true,
    "execution": {
     "iopub.execute_input": "2024-10-15T21:34:53.812098Z",
     "iopub.status.busy": "2024-10-15T21:34:53.811435Z",
     "iopub.status.idle": "2024-10-15T23:49:48.391499Z",
     "shell.execute_reply": "2024-10-15T23:49:48.390409Z",
     "shell.execute_reply.started": "2024-10-15T21:34:53.812008Z"
    },
    "papermill": {
     "duration": 8128.14365,
     "end_time": "2024-06-03T19:18:24.191101",
     "exception": false,
     "start_time": "2024-06-03T17:02:56.047451",
     "status": "completed"
    },
    "tags": [],
    "trusted": true
   },
   "outputs": [],
   "source": [
    "# Start training the model\n",
    "history = model.fit(\n",
    "    train_ds,\n",
    "    epochs=CFG.epochs,\n",
    "    validation_data=valid_ds,\n",
    "    callbacks=[lr_cb, ckpt_cb]\n",
    ")"
   ]
  },
  {
   "cell_type": "markdown",
   "metadata": {
    "papermill": {
     "duration": 0.805618,
     "end_time": "2024-06-03T19:18:25.735457",
     "exception": false,
     "start_time": "2024-06-03T19:18:24.929839",
     "status": "completed"
    },
    "tags": []
   },
   "source": [
    "## Load Best Model\n",
    "\n",
    "After training, let's load the weight with best result to get the best performance."
   ]
  },
  {
   "cell_type": "code",
   "execution_count": null,
   "metadata": {
    "execution": {
     "iopub.execute_input": "2024-10-15T23:49:48.394622Z",
     "iopub.status.busy": "2024-10-15T23:49:48.393464Z",
     "iopub.status.idle": "2024-10-15T23:49:50.108701Z",
     "shell.execute_reply": "2024-10-15T23:49:50.107883Z",
     "shell.execute_reply.started": "2024-10-15T23:49:48.394488Z"
    },
    "papermill": {
     "duration": 2.546342,
     "end_time": "2024-06-03T19:18:29.025014",
     "exception": false,
     "start_time": "2024-06-03T19:18:26.478672",
     "status": "completed"
    },
    "tags": [],
    "trusted": true
   },
   "outputs": [],
   "source": [
    "model.load_weights('/kaggle/working/best_model.weights.h5')"
   ]
  },
  {
   "cell_type": "markdown",
   "metadata": {
    "papermill": {
     "duration": 0.754041,
     "end_time": "2024-06-03T19:18:30.53816",
     "exception": false,
     "start_time": "2024-06-03T19:18:29.784119",
     "status": "completed"
    },
    "tags": []
   },
   "source": [
    "# 🧪 | Prediction"
   ]
  },
  {
   "cell_type": "code",
   "execution_count": null,
   "metadata": {
    "execution": {
     "iopub.execute_input": "2024-10-15T23:49:50.110516Z",
     "iopub.status.busy": "2024-10-15T23:49:50.110193Z",
     "iopub.status.idle": "2024-10-15T23:49:50.495368Z",
     "shell.execute_reply": "2024-10-15T23:49:50.494377Z",
     "shell.execute_reply.started": "2024-10-15T23:49:50.110483Z"
    },
    "papermill": {
     "duration": 1.156834,
     "end_time": "2024-06-03T19:18:32.520369",
     "exception": false,
     "start_time": "2024-06-03T19:18:31.363535",
     "status": "completed"
    },
    "tags": [],
    "trusted": true
   },
   "outputs": [],
   "source": [
    "# Build test dataset\n",
    "test_texts = test_df.options.tolist()\n",
    "test_ds = build_dataset(test_texts,\n",
    "                         batch_size=min(len(test_df), CFG.batch_size),\n",
    "                         shuffle=False)"
   ]
  },
  {
   "cell_type": "code",
   "execution_count": null,
   "metadata": {
    "execution": {
     "iopub.execute_input": "2024-10-15T23:49:50.496785Z",
     "iopub.status.busy": "2024-10-15T23:49:50.49648Z",
     "iopub.status.idle": "2024-10-15T23:49:55.623419Z",
     "shell.execute_reply": "2024-10-15T23:49:55.622444Z",
     "shell.execute_reply.started": "2024-10-15T23:49:50.496752Z"
    },
    "papermill": {
     "duration": 6.510153,
     "end_time": "2024-06-03T19:18:39.767367",
     "exception": false,
     "start_time": "2024-06-03T19:18:33.257214",
     "status": "completed"
    },
    "tags": [],
    "trusted": true
   },
   "outputs": [],
   "source": [
    "# Make predictions using the trained model on test data\n",
    "test_preds = model.predict(test_ds, verbose=1)"
   ]
  },
  {
   "cell_type": "markdown",
   "metadata": {
    "papermill": {
     "duration": 0.768879,
     "end_time": "2024-06-03T19:18:41.329256",
     "exception": false,
     "start_time": "2024-06-03T19:18:40.560377",
     "status": "completed"
    },
    "tags": []
   },
   "source": [
    "# 📬 | Submission\n",
    "\n",
    "Following code will prepare the submission file."
   ]
  },
  {
   "cell_type": "code",
   "execution_count": null,
   "metadata": {
    "execution": {
     "iopub.execute_input": "2024-10-15T23:49:55.625431Z",
     "iopub.status.busy": "2024-10-15T23:49:55.624973Z",
     "iopub.status.idle": "2024-10-15T23:49:55.643214Z",
     "shell.execute_reply": "2024-10-15T23:49:55.64237Z",
     "shell.execute_reply.started": "2024-10-15T23:49:55.625383Z"
    },
    "papermill": {
     "duration": 0.751809,
     "end_time": "2024-06-03T19:18:42.839827",
     "exception": false,
     "start_time": "2024-06-03T19:18:42.088018",
     "status": "completed"
    },
    "tags": [],
    "trusted": true
   },
   "outputs": [],
   "source": [
    "sub_df = test_df[[\"id\"]].copy()\n",
    "sub_df[CFG.class_names] = test_preds.tolist()\n",
    "sub_df.to_csv(\"submission.csv\", index=False)\n",
    "sub_df.head()"
   ]
  },
  {
   "cell_type": "markdown",
   "metadata": {
    "papermill": {
     "duration": 0.740084,
     "end_time": "2024-06-03T19:18:44.386408",
     "exception": false,
     "start_time": "2024-06-03T19:18:43.646324",
     "status": "completed"
    },
    "tags": []
   },
   "source": [
    "# 🔭 | Future Directions\n",
    "\n",
    "In this notebook, we've achieved a good score with a small model and modest token length. But there's plenty of room to improve. Here's how:\n",
    "\n",
    "1. Try bigger models like `Deberta-Base` or `Deberta-Small`, or even LLMs like `Gemma`.\n",
    "2. Increase max token length to reduce loss of data.\n",
    "3. Use a five-fold cross-validation and ensemble to make the model robust and get better scores.\n",
    "4. Add augmentation like shuffling response orders for more robust performance.\n",
    "5. Train for more epochs.\n",
    "6. Tune the learning rate scheduler."
   ]
  },
  {
   "cell_type": "markdown",
   "metadata": {
    "papermill": {
     "duration": 0.830152,
     "end_time": "2024-06-03T19:18:45.950588",
     "exception": false,
     "start_time": "2024-06-03T19:18:45.120436",
     "status": "completed"
    },
    "tags": []
   },
   "source": [
    "# 📌 | Reference\n",
    "\n",
    "* [LLM Science Exam: KerasCore + KerasNLP [TPU]](https://www.kaggle.com/code/awsaf49/llm-science-exam-kerascore-kerasnlp-tpu)\n",
    "* [AES 2.0: KerasNLP Starter](https://www.kaggle.com/code/awsaf49/aes-2-0-kerasnlp-starter)"
   ]
  }
 ],
 "metadata": {
  "kaggle": {
   "accelerator": "gpu",
   "dataSources": [
    {
     "databundleVersionId": 9809560,
     "sourceId": 86518,
     "sourceType": "competition"
    },
    {
     "modelId": 2820,
     "modelInstanceId": 4684,
     "sourceId": 6063,
     "sourceType": "modelInstanceVersion"
    }
   ],
   "dockerImageVersionId": 30787,
   "isGpuEnabled": true,
   "isInternetEnabled": false,
   "language": "python",
   "sourceType": "notebook"
  },
  "kernelspec": {
   "display_name": "Python 3",
   "language": "python",
   "name": "python3"
  },
  "language_info": {
   "codemirror_mode": {
    "name": "ipython",
    "version": 3
   },
   "file_extension": ".py",
   "mimetype": "text/x-python",
   "name": "python",
   "nbconvert_exporter": "python",
   "pygments_lexer": "ipython3",
   "version": "3.10.14"
  },
  "papermill": {
   "default_parameters": {},
   "duration": 8265.260972,
   "end_time": "2024-06-03T19:18:50.009067",
   "environment_variables": {},
   "exception": null,
   "input_path": "__notebook__.ipynb",
   "output_path": "__notebook__.ipynb",
   "parameters": {},
   "start_time": "2024-06-03T17:01:04.748095",
   "version": "2.5.0"
  }
 },
 "nbformat": 4,
 "nbformat_minor": 4
}
